{
 "cells": [
  {
   "cell_type": "code",
   "execution_count": 22,
   "metadata": {},
   "outputs": [],
   "source": [
    "import pandas as pd\n",
    "import numpy as np\n",
    "import os\n",
    "import requests\n",
    "import matplotlib.pyplot as plt\n",
    "import statsmodels.api as sm\n",
    "from statsmodels.graphics.mosaicplot import mosaic\n",
    "\n",
    "data_path = r'./data'\n",
    "data_file = os.path.join(data_path, 'train.csv')\n",
    "\n",
    "df = pd.read_csv(data_file, encoding='utf-8')"
   ]
  },
  {
   "cell_type": "code",
   "execution_count": 42,
   "metadata": {},
   "outputs": [
    {
     "name": "stdout",
     "output_type": "stream",
     "text": [
      "critics_vote    bad    ok  great\n",
      "community_vote                  \n",
      "bad             176    51      0\n",
      "great            30   263    336\n",
      "ok              905  1130    292\n",
      "critics_vote           bad           ok       great\n",
      "community_vote                                     \n",
      "bad              79.750980   103.622510   45.126510\n",
      "great           220.056863   285.925569  124.517569\n",
      "ok              812.692157  1055.951922  459.855922\n",
      "critics_vote          bad        ok      great\n",
      "community_vote                                \n",
      "bad             10.833744 -5.120334  -6.643196\n",
      "great          -12.778270 -1.326224  18.996979\n",
      "ok               3.255530  2.294111  -7.804232\n"
     ]
    }
   ],
   "source": [
    "levels = ['bad','ok','great']\n",
    "table = pd.crosstab(df['community_vote'], df['critics_vote'])\n",
    "ct = sm.stats.Table(table.loc[:, levels])\n",
    "print(ct.table_orig)\n",
    "print(ct.fittedvalues)\n",
    "print(ct.resid_pearson)"
   ]
  },
  {
   "cell_type": "code",
   "execution_count": 43,
   "metadata": {},
   "outputs": [
    {
     "name": "stdout",
     "output_type": "stream",
     "text": [
      "0.0\n",
      "critics_vote           bad         ok       great\n",
      "community_vote                                   \n",
      "bad             117.370003  26.217817   44.132050\n",
      "great           163.284179   1.758871  360.885229\n",
      "ok               10.598473   5.262944   60.906043\n"
     ]
    }
   ],
   "source": [
    "test_table = ct.test_nominal_association()\n",
    "print(test_table.pvalue)\n",
    "print(ct.chi2_contribs)"
   ]
  },
  {
   "cell_type": "code",
   "execution_count": 31,
   "metadata": {},
   "outputs": [
    {
     "name": "stdout",
     "output_type": "stream",
     "text": [
      "critics_vote       bad        ok  great\n",
      "budget                                 \n",
      "avg           0.873383  1.014844    NaN\n",
      "high          2.638746  1.352446    NaN\n",
      "low                NaN       NaN    NaN\n",
      "critics_vote       bad        ok  great\n",
      "budget                                 \n",
      "avg           1.426572  1.383346    NaN\n",
      "high          2.659749  1.901607    NaN\n",
      "low                NaN       NaN    NaN\n"
     ]
    }
   ],
   "source": [
    "print(ct.local_oddsratios)\n",
    "print(ct.cumulative_oddsratios)"
   ]
  },
  {
   "cell_type": "code",
   "execution_count": 45,
   "metadata": {},
   "outputs": [
    {
     "data": {
      "text/plain": [
       "(<matplotlib.figure.Figure at 0x213b3b45ba8>,\n",
       " OrderedDict([(('great', 'great'),\n",
       "               (0.0, 0.0, 0.19565575784722675, 0.53064361595721155)),\n",
       "              (('great', 'bad'),\n",
       "               (0.0,\n",
       "                0.53395487423535715,\n",
       "                0.19565575784722675,\n",
       "                0.047378894281893874)),\n",
       "              (('great', 'ok'),\n",
       "               (0.0,\n",
       "                0.58464502679539687,\n",
       "                0.19565575784722675,\n",
       "                0.41535497320460307)),\n",
       "              (('ok', 'great'),\n",
       "               (0.2006062528967317,\n",
       "                0.0,\n",
       "                0.7238329865031744,\n",
       "                0.1246524388335036)),\n",
       "              (('ok', 'bad'),\n",
       "               (0.2006062528967317,\n",
       "                0.12796369711164929,\n",
       "                0.7238329865031744,\n",
       "                0.3863371820010984)),\n",
       "              (('ok', 'ok'),\n",
       "               (0.2006062528967317,\n",
       "                0.51761213739089351,\n",
       "                0.7238329865031744,\n",
       "                0.48238786260910643)),\n",
       "              (('bad', 'great'),\n",
       "               (0.929389734449411, 0.0, 0.070610265550589, 0.0)),\n",
       "              (('bad', 'bad'),\n",
       "               (0.929389734449411,\n",
       "                0.0033112582781456949,\n",
       "                0.070610265550589,\n",
       "                0.77019575808851404)),\n",
       "              (('bad', 'ok'),\n",
       "               (0.929389734449411,\n",
       "                0.77681827464480546,\n",
       "                0.070610265550589,\n",
       "                0.22318172535519437))]))"
      ]
     },
     "execution_count": 45,
     "metadata": {},
     "output_type": "execute_result"
    },
    {
     "data": {
      "image/png": "[encoded data removed]",
      "text/plain": [
       "<matplotlib.figure.Figure at 0x213b3b45ba8>"
      ]
     },
     "metadata": {},
     "output_type": "display_data"
    }
   ],
   "source": [
    "mosaic(df, index=['community_vote','critics_vote'])"
   ]
  },
  {
   "cell_type": "code",
   "execution_count": 47,
   "metadata": {
    "scrolled": false
   },
   "outputs": [
    {
     "name": "stdout",
     "output_type": "stream",
     "text": [
      "level: low\n",
      "\n",
      "vote_average_binned  bad  great   ok\n",
      "budget_binned                       \n",
      "avg                   77     17  302\n",
      "high                  17      1   25\n",
      "low                   33     56  267\n",
      "\n",
      "total: 795\n",
      "cols marginal:\n",
      "vote_average_binned\n",
      "bad      127\n",
      "great     74\n",
      "ok       594\n",
      "dtype: int64\n",
      "\n",
      "\n",
      "level: avg\n",
      "\n",
      "vote_average_binned  bad  great   ok\n",
      "budget_binned                       \n",
      "avg                   56    112  721\n",
      "high                  24     12  291\n",
      "low                   15    118  243\n",
      "\n",
      "total: 1592\n",
      "cols marginal:\n",
      "vote_average_binned\n",
      "bad        95\n",
      "great     242\n",
      "ok       1255\n",
      "dtype: int64\n",
      "\n",
      "\n",
      "level: high\n",
      "\n",
      "vote_average_binned  bad  great     ok\n",
      "budget_binned                         \n",
      "avg                  NaN  143.0  162.0\n",
      "high                 4.0  116.0  294.0\n",
      "low                  1.0   54.0   22.0\n",
      "\n",
      "total: 796\n",
      "cols marginal:\n",
      "vote_average_binned\n",
      "bad        5.0\n",
      "great    313.0\n",
      "ok       478.0\n",
      "dtype: float64\n",
      "\n",
      "\n"
     ]
    }
   ],
   "source": [
    "# plot some barchart to investigate correlation\n",
    "levels = ['low', 'avg', 'high']\n",
    "\n",
    "for l in levels:\n",
    "    print('level: %s\\n' % l)\n",
    "    subset = df[df['vote_count_binned'] == l]\n",
    "    group = subset.groupby(['budget_binned', 'vote_average_binned'])\n",
    "    size = group.size()\n",
    "    total = size.sum()   \n",
    "    cont_table = size.unstack()    \n",
    "    expected_rows = cont_table.sum()\n",
    "#     observed_major = cont_table['major']\n",
    "    \n",
    "    print(\"%s\\n\" % cont_table)\n",
    "    print('total: %d' % total)\n",
    "    print('cols marginal:')\n",
    "    print(expected_rows)\n",
    "    print('\\n')\n",
    "\n",
    "# x = [df[df['macro_genre'] == g]['major'] for g in genres]\n",
    "# y = [df[df['macro_genre'] == g]['roi_binned'].value_counts() for g in genres]\n",
    "\n",
    "# plt.bar(x[0],y[0], width=.2)\n",
    "\n",
    "# # ax = plt.subplot(111)\n",
    "# # ax.bar(x, y,width=0.2,color='b',align='center')\n",
    "# # ax.bar(x, z,width=0.2,color='g',align='center')\n",
    "# # ax.bar(x, k,width=0.2,color='r',align='center')\n",
    "# # ax.xaxis_date()\n",
    "\n",
    "# plt.show()"
   ]
  },
  {
   "cell_type": "code",
   "execution_count": 2,
   "metadata": {},
   "outputs": [
    {
     "data": {
      "text/plain": [
       "count    3.185000e+03\n",
       "mean     4.110685e+07\n",
       "std      4.450201e+07\n",
       "min      1.000000e+00\n",
       "25%      1.100000e+07\n",
       "50%      2.600000e+07\n",
       "75%      5.500000e+07\n",
       "max      3.800000e+08\n",
       "Name: budget, dtype: float64"
      ]
     },
     "execution_count": 2,
     "metadata": {},
     "output_type": "execute_result"
    }
   ],
   "source": [
    "df['popularity_binned'] = pd.qcut(df['popularity'], q=[0, 0.25, 0.75, 1],labels=['0-25', '25-75', '75-100'])\n",
    "df['budget'].describe()"
   ]
  },
  {
   "cell_type": "code",
   "execution_count": 3,
   "metadata": {},
   "outputs": [
    {
     "data": {
      "text/plain": [
       "(array([  3.05800000e+03,   1.13000000e+02,   7.00000000e+00,\n",
       "          1.00000000e+00,   2.00000000e+00,   2.00000000e+00,\n",
       "          0.00000000e+00,   0.00000000e+00,   1.00000000e+00,\n",
       "          1.00000000e+00]),\n",
       " array([  3.70730000e-02,   8.75914962e+01,   1.75145919e+02,\n",
       "          2.62700343e+02,   3.50254766e+02,   4.37809189e+02,\n",
       "          5.25363612e+02,   6.12918035e+02,   7.00472459e+02,\n",
       "          7.88026882e+02,   8.75581305e+02]),\n",
       " <a list of 10 Patch objects>)"
      ]
     },
     "execution_count": 3,
     "metadata": {},
     "output_type": "execute_result"
    },
    {
     "data": {
      "image/png": "[encoded data removed]",
      "text/plain": [
       "<matplotlib.figure.Figure at 0x272adb81390>"
      ]
     },
     "metadata": {},
     "output_type": "display_data"
    }
   ],
   "source": [
    "plt.hist(df['popularity'])"
   ]
  },
  {
   "cell_type": "code",
   "execution_count": 4,
   "metadata": {},
   "outputs": [
    {
     "data": {
      "text/plain": [
       "(array([  2.80900000e+03,   2.55000000e+02,   7.50000000e+01,\n",
       "          3.40000000e+01,   6.00000000e+00,   4.00000000e+00,\n",
       "          1.00000000e+00,   0.00000000e+00,   0.00000000e+00,\n",
       "          1.00000000e+00]),\n",
       " array([  5.00000000e+00,   2.78796513e+08,   5.57593021e+08,\n",
       "          8.36389530e+08,   1.11518604e+09,   1.39398255e+09,\n",
       "          1.67277905e+09,   1.95157556e+09,   2.23037207e+09,\n",
       "          2.50916858e+09,   2.78796509e+09]),\n",
       " <a list of 10 Patch objects>)"
      ]
     },
     "execution_count": 4,
     "metadata": {},
     "output_type": "execute_result"
    },
    {
     "data": {
      "image/png": "[encoded data removed]",
      "text/plain": [
       "<matplotlib.figure.Figure at 0x272acea0550>"
      ]
     },
     "metadata": {},
     "output_type": "display_data"
    }
   ],
   "source": [
    "plt.hist(df['revenue'])"
   ]
  },
  {
   "cell_type": "code",
   "execution_count": 5,
   "metadata": {},
   "outputs": [
    {
     "data": {
      "text/plain": [
       "(array([  2.00000000e+03,   7.04000000e+02,   2.37000000e+02,\n",
       "          1.41000000e+02,   5.40000000e+01,   3.10000000e+01,\n",
       "          1.40000000e+01,   3.00000000e+00,   0.00000000e+00,\n",
       "          1.00000000e+00]),\n",
       " array([  1.00000000e+00,   3.80000009e+07,   7.60000008e+07,\n",
       "          1.14000001e+08,   1.52000001e+08,   1.90000000e+08,\n",
       "          2.28000000e+08,   2.66000000e+08,   3.04000000e+08,\n",
       "          3.42000000e+08,   3.80000000e+08]),\n",
       " <a list of 10 Patch objects>)"
      ]
     },
     "execution_count": 5,
     "metadata": {},
     "output_type": "execute_result"
    },
    {
     "data": {
      "image/png": "[encoded data removed]",
      "text/plain": [
       "<matplotlib.figure.Figure at 0x272acf50208>"
      ]
     },
     "metadata": {},
     "output_type": "display_data"
    }
   ],
   "source": [
    "plt.hist(df['budget'])"
   ]
  },
  {
   "cell_type": "code",
   "execution_count": 6,
   "metadata": {},
   "outputs": [
    {
     "data": {
      "text/plain": [
       "(array([ 404.,  146.,  234.,  390.,  342.,  665.,  669.,  236.,   89.,   10.]),\n",
       " array([  0. ,   5.6,  11.2,  16.8,  22.4,  28. ,  33.6,  39.2,  44.8,\n",
       "         50.4,  56. ]),\n",
       " <a list of 10 Patch objects>)"
      ]
     },
     "execution_count": 6,
     "metadata": {},
     "output_type": "execute_result"
    },
    {
     "data": {
      "image/png": "[encoded data removed]",
      "text/plain": [
       "<matplotlib.figure.Figure at 0x272acfbbcc0>"
      ]
     },
     "metadata": {},
     "output_type": "display_data"
    }
   ],
   "source": [
    "plt.hist(df['critics_count'])"
   ]
  },
  {
   "cell_type": "code",
   "execution_count": 7,
   "metadata": {},
   "outputs": [
    {
     "data": {
      "text/plain": [
       "(array([ 382.,   53.,  155.,  372.,  490.,  540.,  525.,  366.,  224.,   78.]),\n",
       " array([  0.,   1.,   2.,   3.,   4.,   5.,   6.,   7.,   8.,   9.,  10.]),\n",
       " <a list of 10 Patch objects>)"
      ]
     },
     "execution_count": 7,
     "metadata": {},
     "output_type": "execute_result"
    },
    {
     "data": {
      "image/png": "[encoded data removed]",
      "text/plain": [
       "<matplotlib.figure.Figure at 0x272ad091cf8>"
      ]
     },
     "metadata": {},
     "output_type": "display_data"
    }
   ],
   "source": [
    "plt.hist(df['critics_vote'])"
   ]
  },
  {
   "cell_type": "code",
   "execution_count": 14,
   "metadata": {},
   "outputs": [
    {
     "data": {
      "text/plain": [
       "(array([ 1590.,     0.,     0.,     0.,     0.,   784.,     0.,     0.,\n",
       "            0.,   811.]),\n",
       " array([ 0. ,  0.2,  0.4,  0.6,  0.8,  1. ,  1.2,  1.4,  1.6,  1.8,  2. ]),\n",
       " <a list of 10 Patch objects>)"
      ]
     },
     "execution_count": 14,
     "metadata": {},
     "output_type": "execute_result"
    },
    {
     "data": {
      "image/png": "[encoded data removed]",
      "text/plain": [
       "<matplotlib.figure.Figure at 0x272ad427898>"
      ]
     },
     "metadata": {},
     "output_type": "display_data"
    }
   ],
   "source": [
    "plt.hist(pd.qcut(df['budget'], q=[0, .25, .75, 1], labels=['low', 'avg', 'high']))"
   ]
  },
  {
   "cell_type": "code",
   "execution_count": null,
   "metadata": {},
   "outputs": [],
   "source": []
  }
 ],
 "metadata": {
  "kernelspec": {
   "display_name": "ml",
   "language": "python",
   "name": "ml"
  },
  "language_info": {
   "codemirror_mode": {
    "name": "ipython",
    "version": 3
   },
   "file_extension": ".py",
   "mimetype": "text/x-python",
   "name": "python",
   "nbconvert_exporter": "python",
   "pygments_lexer": "ipython3",
   "version": "3.6.1"
  }
 },
 "nbformat": 4,
 "nbformat_minor": 2
}
